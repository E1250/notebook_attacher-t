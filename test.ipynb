{
    "cells": [
        {
            "attachments": {},
            "cell_type": "markdown",
            "metadata": {},
            "source": [
                "Hello this is text one\n",
                "![Image](notebook_images\\cell_0_image_0.png)\n",
                "![Image](notebook_images\\cell_0_image_1.png)\n",
                "Hello this is text two"
            ]
        },
        {
            "attachments": {},
            "cell_type": "markdown",
            "metadata": {},
            "source": [
                "![Image](notebook_images\\cell_1_image_2.png)\n"
            ]
        },
        {
            "cell_type": "markdown",
            "metadata": {},
            "source": []
        }
    ],
    "metadata": {
        "language_info": {
            "name": "python"
        }
    },
    "nbformat": 4,
    "nbformat_minor": 2
}
